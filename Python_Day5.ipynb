{
 "cells": [
  {
   "cell_type": "code",
   "execution_count": null,
   "id": "6c2257d4-6aa9-445f-bee7-d50f158175cd",
   "metadata": {},
   "outputs": [],
   "source": [
    "The list datatype :"
   ]
  },
  {
   "cell_type": "code",
   "execution_count": 2,
   "id": "74d20f4c-8b32-4f64-b9bb-70b30f4a93f6",
   "metadata": {},
   "outputs": [
    {
     "name": "stdout",
     "output_type": "stream",
     "text": [
      "['cricket', 'football', 'hockey', 'ludoo', 'swimming']\n"
     ]
    }
   ],
   "source": [
    "games = ['cricket','football','hockey','ludoo','swimming']\n",
    "print(games)"
   ]
  },
  {
   "cell_type": "code",
   "execution_count": 3,
   "id": "a94cf36c-1332-4d0e-8c08-910164e105b8",
   "metadata": {},
   "outputs": [
    {
     "data": {
      "text/plain": [
       "list"
      ]
     },
     "execution_count": 3,
     "metadata": {},
     "output_type": "execute_result"
    }
   ],
   "source": [
    "type(games)"
   ]
  },
  {
   "cell_type": "code",
   "execution_count": 4,
   "id": "cca1c4fb-cd35-406a-a88a-68c301d44c50",
   "metadata": {},
   "outputs": [
    {
     "name": "stdout",
     "output_type": "stream",
     "text": [
      "['cricket', 'football', 'hockey', 'ludoo', 'swimming']\n"
     ]
    }
   ],
   "source": [
    "print(sorted(games))"
   ]
  },
  {
   "cell_type": "code",
   "execution_count": 5,
   "id": "de5f682c-5b7a-4d4b-9e04-4e08a300d70c",
   "metadata": {},
   "outputs": [
    {
     "name": "stdout",
     "output_type": "stream",
     "text": [
      "['cricket', 'football', 'hockey', 'ludoo', 'swimming']\n"
     ]
    }
   ],
   "source": [
    "print(games)"
   ]
  },
  {
   "cell_type": "code",
   "execution_count": 6,
   "id": "7831810f-9546-4231-a603-2fe488085d98",
   "metadata": {},
   "outputs": [
    {
     "name": "stdout",
     "output_type": "stream",
     "text": [
      "['cricket', 'football', 'hockey', 'ludoo', 'swimming']\n"
     ]
    }
   ],
   "source": [
    "games.sort()\n",
    "print(games)"
   ]
  },
  {
   "cell_type": "code",
   "execution_count": 7,
   "id": "f7017862-3865-47ba-82dc-9ade6a26bf33",
   "metadata": {},
   "outputs": [
    {
     "name": "stdout",
     "output_type": "stream",
     "text": [
      "['swimming', 'ludoo', 'hockey', 'football', 'cricket']\n"
     ]
    }
   ],
   "source": [
    "games.reverse()\n",
    "print(games)"
   ]
  },
  {
   "cell_type": "code",
   "execution_count": 8,
   "id": "93e8b444-398c-4953-93d6-1070daa9ad1d",
   "metadata": {},
   "outputs": [
    {
     "data": {
      "text/plain": [
       "5"
      ]
     },
     "execution_count": 8,
     "metadata": {},
     "output_type": "execute_result"
    }
   ],
   "source": [
    "len(games)"
   ]
  },
  {
   "cell_type": "code",
   "execution_count": 13,
   "id": "bec3d3f6-1794-4f67-ae88-941edaa58a30",
   "metadata": {},
   "outputs": [
    {
     "ename": "SyntaxError",
     "evalue": "invalid syntax (3351112456.py, line 2)",
     "output_type": "error",
     "traceback": [
      "\u001b[1;36m  Cell \u001b[1;32mIn[13], line 2\u001b[1;36m\u001b[0m\n\u001b[1;33m    (start_value:stop_value:step_count)\u001b[0m\n\u001b[1;37m                ^\u001b[0m\n\u001b[1;31mSyntaxError\u001b[0m\u001b[1;31m:\u001b[0m invalid syntax\n"
     ]
    }
   ],
   "source": [
    "#slicing:=======\n",
    "(start_value:stop_value:step_count)\n",
    "Note \" stop_value will be always excusilve to include we have to increment the index by +1."
   ]
  },
  {
   "cell_type": "code",
   "execution_count": 11,
   "id": "f9a151be-8b22-4dbf-a360-095e0da6026f",
   "metadata": {},
   "outputs": [
    {
     "name": "stdout",
     "output_type": "stream",
     "text": [
      "['sarika', 'mukund', 'ravi', 'shyam', 'sundar', 'gopal', 'krishna']\n"
     ]
    }
   ],
   "source": [
    "students = ['sarika','mukund','ravi','shyam','sundar','gopal','krishna']\n",
    "print(students)"
   ]
  },
  {
   "cell_type": "code",
   "execution_count": 12,
   "id": "85a03a96-ff62-41dc-8b39-03dbe25a4a67",
   "metadata": {},
   "outputs": [
    {
     "name": "stdout",
     "output_type": "stream",
     "text": [
      "['sarika', 'mukund', 'ravi', 'shyam', 'sundar', 'gopal', 'krishna']\n"
     ]
    }
   ],
   "source": [
    "print(students)"
   ]
  },
  {
   "cell_type": "code",
   "execution_count": 17,
   "id": "21141501-89d1-48ba-a3b3-e4ce6632658f",
   "metadata": {},
   "outputs": [
    {
     "name": "stdout",
     "output_type": "stream",
     "text": [
      "['sarika', 'mukund', 'ravi', 'shyam']\n"
     ]
    }
   ],
   "source": [
    "print(students[0:4])"
   ]
  },
  {
   "cell_type": "code",
   "execution_count": 18,
   "id": "2f42cba1-d191-4f8d-af93-373cbfed0f0d",
   "metadata": {},
   "outputs": [
    {
     "name": "stdout",
     "output_type": "stream",
     "text": [
      "['sarika']\n"
     ]
    }
   ],
   "source": [
    "print(students[0:1])"
   ]
  },
  {
   "cell_type": "code",
   "execution_count": 19,
   "id": "517a9b25-659a-4469-b3aa-cb6ba332def4",
   "metadata": {},
   "outputs": [
    {
     "name": "stdout",
     "output_type": "stream",
     "text": [
      "['sarika']\n"
     ]
    }
   ],
   "source": [
    "print(students[0:3:5])"
   ]
  },
  {
   "cell_type": "code",
   "execution_count": null,
   "id": "afd17d29-b627-4cb2-9fd5-eed6cfc9d9f9",
   "metadata": {},
   "outputs": [],
   "source": []
  }
 ],
 "metadata": {
  "kernelspec": {
   "display_name": "Python 3 (ipykernel)",
   "language": "python",
   "name": "python3"
  },
  "language_info": {
   "codemirror_mode": {
    "name": "ipython",
    "version": 3
   },
   "file_extension": ".py",
   "mimetype": "text/x-python",
   "name": "python",
   "nbconvert_exporter": "python",
   "pygments_lexer": "ipython3",
   "version": "3.11.7"
  }
 },
 "nbformat": 4,
 "nbformat_minor": 5
}
