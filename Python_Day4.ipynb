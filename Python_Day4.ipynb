{
 "cells": [
  {
   "cell_type": "code",
   "execution_count": null,
   "id": "2509bf95-1dd8-40d6-b7c9-1ecdf1d05480",
   "metadata": {},
   "outputs": [],
   "source": [
    "Intro to list Datatype:"
   ]
  },
  {
   "cell_type": "code",
   "execution_count": 1,
   "id": "7cda6689-1fd0-4912-a9ea-0991cf9ea0cf",
   "metadata": {},
   "outputs": [
    {
     "name": "stdout",
     "output_type": "stream",
     "text": [
      "['abc', 'pqr', 'stu', 'abc1']\n"
     ]
    }
   ],
   "source": [
    "students = ['abc','pqr','stu','abc1']\n",
    "print(students)"
   ]
  },
  {
   "cell_type": "code",
   "execution_count": 2,
   "id": "a1a7e861-474d-4c2e-9175-6a1bfa681602",
   "metadata": {},
   "outputs": [
    {
     "data": {
      "text/plain": [
       "list"
      ]
     },
     "execution_count": 2,
     "metadata": {},
     "output_type": "execute_result"
    }
   ],
   "source": [
    "type(students)"
   ]
  },
  {
   "cell_type": "code",
   "execution_count": 3,
   "id": "bc34bb94-2b4f-4d80-bcb3-e5f596f7d4b1",
   "metadata": {},
   "outputs": [
    {
     "name": "stdout",
     "output_type": "stream",
     "text": [
      "abc\n"
     ]
    }
   ],
   "source": [
    "print(students[0])"
   ]
  },
  {
   "cell_type": "code",
   "execution_count": 4,
   "id": "ff418665-215d-49c7-bec1-66ab49f2bf8c",
   "metadata": {},
   "outputs": [
    {
     "name": "stdout",
     "output_type": "stream",
     "text": [
      "pqr\n"
     ]
    }
   ],
   "source": [
    "print(students[1])"
   ]
  },
  {
   "cell_type": "code",
   "execution_count": 5,
   "id": "0cddfa5d-232a-4c12-9480-704c074c43c7",
   "metadata": {},
   "outputs": [
    {
     "name": "stdout",
     "output_type": "stream",
     "text": [
      "Abc\n"
     ]
    }
   ],
   "source": [
    "print(students[0].title())"
   ]
  },
  {
   "cell_type": "code",
   "execution_count": 6,
   "id": "113ecb41-3761-4f3d-a865-17d07a933b51",
   "metadata": {},
   "outputs": [
    {
     "name": "stdout",
     "output_type": "stream",
     "text": [
      "['abc', 'pqr', 'stu', 'abc1', 'mukund']\n"
     ]
    }
   ],
   "source": [
    "students.append('mukund')\n",
    "print(students)"
   ]
  },
  {
   "cell_type": "code",
   "execution_count": 7,
   "id": "8610d350-24af-4810-9d25-2d1ac01619fe",
   "metadata": {},
   "outputs": [
    {
     "name": "stdout",
     "output_type": "stream",
     "text": [
      "['gunjal', 'abc', 'pqr', 'stu', 'abc1', 'mukund']\n"
     ]
    }
   ],
   "source": [
    "students.insert(0,'gunjal')\n",
    "print(students)"
   ]
  },
  {
   "cell_type": "code",
   "execution_count": 8,
   "id": "3da8a959-a1c9-4287-9eb6-f9b7165f869b",
   "metadata": {},
   "outputs": [
    {
     "name": "stdout",
     "output_type": "stream",
     "text": [
      "gunjal\n"
     ]
    }
   ],
   "source": [
    "print(students[0])"
   ]
  },
  {
   "cell_type": "code",
   "execution_count": 9,
   "id": "61214899-a0d9-423d-bdca-8f191ca800fc",
   "metadata": {},
   "outputs": [
    {
     "name": "stdout",
     "output_type": "stream",
     "text": [
      "['mukund', 'abc', 'pqr', 'stu', 'abc1', 'mukund']\n"
     ]
    }
   ],
   "source": [
    "students[0] = 'mukund'\n",
    "print(students)"
   ]
  },
  {
   "cell_type": "code",
   "execution_count": 10,
   "id": "69070d6c-103f-4eb1-af59-d4885150552d",
   "metadata": {},
   "outputs": [
    {
     "name": "stdout",
     "output_type": "stream",
     "text": [
      "['mukund', 'abc', 'pqr', 'stu', 'abc1']\n"
     ]
    }
   ],
   "source": [
    "x = students.pop()\n",
    "print(students)"
   ]
  },
  {
   "cell_type": "code",
   "execution_count": 11,
   "id": "2a5389c1-daf5-49ee-bdee-ad9c49900aa7",
   "metadata": {},
   "outputs": [
    {
     "name": "stdout",
     "output_type": "stream",
     "text": [
      "mukund\n"
     ]
    }
   ],
   "source": [
    "print(x)"
   ]
  },
  {
   "cell_type": "code",
   "execution_count": null,
   "id": "8e105c8a-b179-4f07-8259-080de2252f3f",
   "metadata": {},
   "outputs": [],
   "source": []
  }
 ],
 "metadata": {
  "kernelspec": {
   "display_name": "Python 3 (ipykernel)",
   "language": "python",
   "name": "python3"
  },
  "language_info": {
   "codemirror_mode": {
    "name": "ipython",
    "version": 3
   },
   "file_extension": ".py",
   "mimetype": "text/x-python",
   "name": "python",
   "nbconvert_exporter": "python",
   "pygments_lexer": "ipython3",
   "version": "3.11.7"
  }
 },
 "nbformat": 4,
 "nbformat_minor": 5
}
