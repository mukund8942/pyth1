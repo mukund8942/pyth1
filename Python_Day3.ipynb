{
 "cells": [
  {
   "cell_type": "code",
   "execution_count": null,
   "id": "fee2fad6-8bc5-4680-a065-b825f418e6a3",
   "metadata": {},
   "outputs": [],
   "source": [
    "understanding the concept of f string :"
   ]
  },
  {
   "cell_type": "code",
   "execution_count": null,
   "id": "8cba6496-f4fd-450e-9179-d059afe2a80b",
   "metadata": {},
   "outputs": [],
   "source": [
    "f\"Custome message {placeholder =1} {placeholder =2}.........{placeholder........N}\""
   ]
  },
  {
   "cell_type": "markdown",
   "id": "0a650c30-1356-493c-8f5c-fff52b244f35",
   "metadata": {
    "jp-MarkdownHeadingCollapsed": true
   },
   "source": [
    "firstname = \"mukund\"\n",
    "lastname = \"gunjal\"\n",
    "print(firstname)"
   ]
  },
  {
   "cell_type": "code",
   "execution_count": 6,
   "id": "397b786f-f66d-46ce-916a-64f74c17fb66",
   "metadata": {},
   "outputs": [
    {
     "name": "stdout",
     "output_type": "stream",
     "text": [
      "Mukund Gunjal\n"
     ]
    }
   ],
   "source": [
    "firstname = \"mukund\"\n",
    "lastname = \"gunjal\"\n",
    "fullname = f\"{firstname} {lastname}\"\n",
    "print(fullname.title())"
   ]
  },
  {
   "cell_type": "code",
   "execution_count": 7,
   "id": "04958844-4fee-4446-9c70-93d833c45fc7",
   "metadata": {},
   "outputs": [
    {
     "name": "stdout",
     "output_type": "stream",
     "text": [
      "keep it up, Mukund Gunjal\n"
     ]
    }
   ],
   "source": [
    "message = f\"keep it up, {fullname.title()}\"\n",
    "print(message)"
   ]
  },
  {
   "cell_type": "code",
   "execution_count": 8,
   "id": "7bdeeec2-7ffb-4c1f-a27b-0e80c896c88b",
   "metadata": {},
   "outputs": [
    {
     "name": "stdout",
     "output_type": "stream",
     "text": [
      "fav_food_name:chikenfishegg\n"
     ]
    }
   ],
   "source": [
    "print(\"fav_food_name:chikenfishegg\")"
   ]
  },
  {
   "cell_type": "code",
   "execution_count": 9,
   "id": "c6044b1d-f7f7-4282-a07f-ab946e5208b4",
   "metadata": {},
   "outputs": [
    {
     "name": "stdout",
     "output_type": "stream",
     "text": [
      "fav_food_name:\n",
      "chiken\n",
      "fish\n",
      "egg\n"
     ]
    }
   ],
   "source": [
    "print(\"fav_food_name:\\nchiken\\nfish\\negg\")"
   ]
  },
  {
   "cell_type": "code",
   "execution_count": 11,
   "id": "e205dd7a-9eb0-4952-bf50-4f865b7368be",
   "metadata": {},
   "outputs": [
    {
     "name": "stdout",
     "output_type": "stream",
     "text": [
      "   love\n"
     ]
    }
   ],
   "source": [
    "name = \"   love\"\n",
    "print(name)"
   ]
  },
  {
   "cell_type": "code",
   "execution_count": 13,
   "id": "bbe97863-4435-4b73-8993-517959efb08a",
   "metadata": {},
   "outputs": [
    {
     "name": "stdout",
     "output_type": "stream",
     "text": [
      "love    \n"
     ]
    }
   ],
   "source": [
    "name1 = \"love    \"\n",
    "print(name1)"
   ]
  },
  {
   "cell_type": "code",
   "execution_count": null,
   "id": "c5be1b24-4e47-4619-8e0c-079f762156f2",
   "metadata": {},
   "outputs": [],
   "source": [
    "name."
   ]
  }
 ],
 "metadata": {
  "kernelspec": {
   "display_name": "Python 3 (ipykernel)",
   "language": "python",
   "name": "python3"
  },
  "language_info": {
   "codemirror_mode": {
    "name": "ipython",
    "version": 3
   },
   "file_extension": ".py",
   "mimetype": "text/x-python",
   "name": "python",
   "nbconvert_exporter": "python",
   "pygments_lexer": "ipython3",
   "version": "3.11.7"
  }
 },
 "nbformat": 4,
 "nbformat_minor": 5
}
